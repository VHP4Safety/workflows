{
 "cells": [
  {
   "cell_type": "markdown",
   "id": "e64ffc31",
   "metadata": {},
   "source": [
    "## Setup\n",
    "Importing the necessary modules and functions. "
   ]
  },
  {
   "cell_type": "code",
   "execution_count": 1,
   "id": "91e1e7ae",
   "metadata": {},
   "outputs": [
    {
     "name": "stderr",
     "output_type": "stream",
     "text": [
      "/tmp/ipykernel_131591/150251967.py:13: FutureWarning: Passing a negative integer is deprecated in version 1.0 and will not be supported in future version. Instead, use None to not limit the column width.\n",
      "  pd.set_option(\"display.max_colwidth\", -1)\n"
     ]
    }
   ],
   "source": [
    "from SPARQLWrapper import SPARQLWrapper, JSON\n",
    "from pyvis.network import Network\n",
    "from IPython.display import display, HTML, IFrame\n",
    "import urllib\n",
    "import simplejson as json\n",
    "import pandas as pd\n",
    "import re\n",
    "import requests\n",
    "import warnings\n",
    "import statistics\n",
    "from edelweiss_data import API, QueryExpression as Q\n",
    "\n",
    "pd.set_option(\"display.max_colwidth\", -1)\n",
    "warnings.filterwarnings(\"ignore\", category = UserWarning)"
   ]
  },
  {
   "cell_type": "markdown",
   "id": "0089737b",
   "metadata": {},
   "source": [
    "## Workflow: Extracting and Analyzing Data Related to an AOP of Interest\n",
    "\n",
    "The goal of this workflow is to find biological/chemical information related to an Adverse Outcome Pathway (AOP). The workflow starts by specifying the AOP (the pathway with the ID number 37 in this example). Then, by using several services, we will collect data relevant to this pathway. The workflow then ends with a pathway analysis using the transcriptomics data from TG-GATES and the molecular pathways in WikiPathways to identify the pathways that are significantly affected with the exposure to the chemicals of interest. "
   ]
  },
  {
   "cell_type": "markdown",
   "id": "45a0d337",
   "metadata": {},
   "source": [
    "## Defining the AOP of Interest\n",
    "Here we define the specific AOP that we want to analyze in this workflow based on its ID number, 37. More info to this pathway can be seen from the AOP-Wiki website: https://aopwiki.org/aops/37."
   ]
  },
  {
   "cell_type": "code",
   "execution_count": 2,
   "id": "43512ab4",
   "metadata": {},
   "outputs": [],
   "source": [
    "AOPid = \"37\""
   ]
  },
  {
   "cell_type": "markdown",
   "id": "fd3288bf",
   "metadata": {},
   "source": [
    "The set of the AOP identifiers can be seen here: https://aopwiki.org/aops?direction=asc&sort=id"
   ]
  },
  {
   "cell_type": "markdown",
   "id": "98458834",
   "metadata": {},
   "source": [
    "## Setting the service URLs\n",
    "As aforementioned, we need to utilize several online services throughout this workflow. Here, we set the URLs to these services as Python objects for an easiness of use. Note that though, some of the services may have been removed (such as the ones hosted by the OpenRiskNet). finding another service that can accomplish the same goal is needed, get their source data/docker images and manually deploy them, or some other way to complete that step."
   ]
  },
  {
   "cell_type": "code",
   "execution_count": 5,
   "id": "5df169b8",
   "metadata": {},
   "outputs": [],
   "source": [
    "# SPARQL endpoint URLs\n",
    "aopwikisparql = SPARQLWrapper(\"http://aopwiki.cloud.vhp4safety.nl/sparql/\")\n",
    "aopdbsparql = SPARQLWrapper(\"http://aopdb.rdf.bigcat-bioinformatics.org/sparql/\") \n",
    "wikipathwayssparql = SPARQLWrapper(\"http://sparql.wikipathways.org/sparql/\")\n",
    "\n",
    "# ChemIdConvert URL\n",
    "chemidconvert = \"https://chemidconvert.cloud.douglasconnect.com/v1/\"\n",
    "\n",
    "# BridgeDB base URL\n",
    "bridgedb = \"http://bridgedb.cloud.vhp4safety.nl/\"\n",
    "\n",
    "# EdelweissData API URL\n",
    "edelweiss_api_url = \"https://api.staging.kit.cloud.douglasconnect.com\""
   ]
  },
  {
   "cell_type": "markdown",
   "id": "faaf9294",
   "metadata": {},
   "source": [
    "## AOP-Wiki RDF \n",
    "The AOP-Wiki is a repository where AOP-related information are stored along with key events, key event relationships, and stressors that allow the reuse of toxicological knowledge for risk assessors. AOP-Wiki RDF then converts the XML files reported by the AOP-Wiki into RDF formatted files which has been exposed in a public SPARQL endpoint."
   ]
  },
  {
   "cell_type": "code",
   "execution_count": 7,
   "id": "69436e9f",
   "metadata": {},
   "outputs": [
    {
     "data": {
      "text/html": [
       "<div>\n",
       "<style scoped>\n",
       "    .dataframe tbody tr th:only-of-type {\n",
       "        vertical-align: middle;\n",
       "    }\n",
       "\n",
       "    .dataframe tbody tr th {\n",
       "        vertical-align: top;\n",
       "    }\n",
       "\n",
       "    .dataframe thead th {\n",
       "        text-align: right;\n",
       "    }\n",
       "</style>\n",
       "<table border=\"1\" class=\"dataframe\">\n",
       "  <thead>\n",
       "    <tr style=\"text-align: right;\">\n",
       "      <th></th>\n",
       "      <th>Properties</th>\n",
       "    </tr>\n",
       "  </thead>\n",
       "  <tbody>\n",
       "    <tr>\n",
       "      <th>dc:title</th>\n",
       "      <td>PPARα activation leading to hepatocellular adenomas and carcinomas in rodents</td>\n",
       "    </tr>\n",
       "    <tr>\n",
       "      <th>foaf:page</th>\n",
       "      <td>https://identifiers.org/aop/37</td>\n",
       "    </tr>\n",
       "    <tr>\n",
       "      <th>dc:creator</th>\n",
       "      <td>J. Christopher Corton, Cancer AOP Workgroup. National Health and Environmental Effects Research Laboratory, Office of Research and Development, Integrated Systems Toxicology Division, US Environmental Protection Agency, Research Triangle Park, NC. Corresponding author for wiki entry (corton.chris@epa.gov)\\n</td>\n",
       "    </tr>\n",
       "    <tr>\n",
       "      <th>dcterms:abstract</th>\n",
       "      <td>Several therapeutic agents and industrial chemicals induce liver tumors in rats and mice through the activation of the peroxisome proliferator-activated receptor alpha (PPAR&amp;alpha;). The molecular and cellular events by which PPAR&amp;alpha; activators induce rodent hepatocarcinogenesis have been extensively studied and elucidated. The weight of evidence relevant to the hypothesized AOP for PPAR&amp;alpha; activator-induced rodent hepatocarcinogenesis is summarized here. Chemical-specific and mechanistic data support concordance of temporal and dose&amp;ndash;response relationships for the key events associated with many PPAR&amp;alpha; activators including a phthalate ester plasticizer di(2-ethylhexyl)phthalate (DEHP) and the drug gemfibrozil. The key events (KE) identified include the MIE &amp;ndash; PPAR&amp;alpha; activation measured as a characteristic change in gene expression,&amp;nbsp;&amp;nbsp;KE2&amp;nbsp;&amp;ndash; increased enzyme activation, characteristically those involved in lipid metabolism and cell cycle control, KE3&amp;nbsp;&amp;ndash; increased cell proliferation, KE4 &amp;ndash; selective clonal expansion of preneoplastic foci, and the AO &amp;ndash; &amp;nbsp;&amp;ndash; increases in hepatocellular adenomas and carcinomas. &amp;nbsp;Other biological&amp;nbsp;factors modulate the effects of PPAR&amp;alpha; activators.These modulating events include increases in oxidative stress, activation of NF-kB, and inhibition of gap junction intercellular communication. The occurrence of hepatocellular adenomas and carcinomas is specific to mice and rats. The occurrence of the various KEs in&amp;nbsp;hamsters, guinea pigs,&amp;nbsp;cynomolgous monkeys are generally absent.\\n</td>\n",
       "    </tr>\n",
       "    <tr>\n",
       "      <th>aopo:has_key_event</th>\n",
       "      <td>https://identifiers.org/aop.events/1170, https://identifiers.org/aop.events/1171, https://identifiers.org/aop.events/227, https://identifiers.org/aop.events/716, https://identifiers.org/aop.events/719</td>\n",
       "    </tr>\n",
       "    <tr>\n",
       "      <th>aopo:has_molecular_initiating_event</th>\n",
       "      <td>https://identifiers.org/aop.events/227</td>\n",
       "    </tr>\n",
       "    <tr>\n",
       "      <th>aopo:has_adverse_outcome</th>\n",
       "      <td>https://identifiers.org/aop.events/719</td>\n",
       "    </tr>\n",
       "    <tr>\n",
       "      <th>aopo:has_key_event_relationship</th>\n",
       "      <td>https://identifiers.org/aop.relationships/1229, https://identifiers.org/aop.relationships/1230, https://identifiers.org/aop.relationships/1232, https://identifiers.org/aop.relationships/1239, https://identifiers.org/aop.relationships/2252, https://identifiers.org/aop.relationships/2253, https://identifiers.org/aop.relationships/2254</td>\n",
       "    </tr>\n",
       "    <tr>\n",
       "      <th>ncit:C54571</th>\n",
       "      <td>https://identifiers.org/aop.stressor/11, https://identifiers.org/aop.stressor/175, https://identifiers.org/aop.stressor/191, https://identifiers.org/aop.stressor/205, https://identifiers.org/aop.stressor/206, https://identifiers.org/aop.stressor/207, https://identifiers.org/aop.stressor/208, https://identifiers.org/aop.stressor/210, https://identifiers.org/aop.stressor/211</td>\n",
       "    </tr>\n",
       "  </tbody>\n",
       "</table>\n",
       "</div>"
      ],
      "text/plain": [
       "                                                                                                                                                                                                                                                                                                                                                                                                                                                                                                                                                                                                                                                                                                                                                                                                                                                                                                                                                                                                                                                                                                                                                                                                                                                                                                                                                                                                                                                                                                                                                                                                                                                                                                                         Properties\n",
       "dc:title                             PPARα activation leading to hepatocellular adenomas and carcinomas in rodents                                                                                                                                                                                                                                                                                                                                                                                                                                                                                                                                                                                                                                                                                                                                                                                                                                                                                                                                                                                                                                                                                                                                                                                                                                                                                                                                                                                                                                                                                                                                                                                                                 \n",
       "foaf:page                            https://identifiers.org/aop/37                                                                                                                                                                                                                                                                                                                                                                                                                                                                                                                                                                                                                                                                                                                                                                                                                                                                                                                                                                                                                                                                                                                                                                                                                                                                                                                                                                                                                                                                                                                                                                                                                                                                \n",
       "dc:creator                           J. Christopher Corton, Cancer AOP Workgroup. National Health and Environmental Effects Research Laboratory, Office of Research and Development, Integrated Systems Toxicology Division, US Environmental Protection Agency, Research Triangle Park, NC. Corresponding author for wiki entry (corton.chris@epa.gov)\\n                                                                                                                                                                                                                                                                                                                                                                                                                                                                                                                                                                                                                                                                                                                                                                                                                                                                                                                                                                                                                                                                                                                                                                                                                                                                                                                                                                          \n",
       "dcterms:abstract                     Several therapeutic agents and industrial chemicals induce liver tumors in rats and mice through the activation of the peroxisome proliferator-activated receptor alpha (PPAR&alpha;). The molecular and cellular events by which PPAR&alpha; activators induce rodent hepatocarcinogenesis have been extensively studied and elucidated. The weight of evidence relevant to the hypothesized AOP for PPAR&alpha; activator-induced rodent hepatocarcinogenesis is summarized here. Chemical-specific and mechanistic data support concordance of temporal and dose&ndash;response relationships for the key events associated with many PPAR&alpha; activators including a phthalate ester plasticizer di(2-ethylhexyl)phthalate (DEHP) and the drug gemfibrozil. The key events (KE) identified include the MIE &ndash; PPAR&alpha; activation measured as a characteristic change in gene expression,&nbsp;&nbsp;KE2&nbsp;&ndash; increased enzyme activation, characteristically those involved in lipid metabolism and cell cycle control, KE3&nbsp;&ndash; increased cell proliferation, KE4 &ndash; selective clonal expansion of preneoplastic foci, and the AO &ndash; &nbsp;&ndash; increases in hepatocellular adenomas and carcinomas. &nbsp;Other biological&nbsp;factors modulate the effects of PPAR&alpha; activators.These modulating events include increases in oxidative stress, activation of NF-kB, and inhibition of gap junction intercellular communication. The occurrence of hepatocellular adenomas and carcinomas is specific to mice and rats. The occurrence of the various KEs in&nbsp;hamsters, guinea pigs,&nbsp;cynomolgous monkeys are generally absent.\\n\n",
       "aopo:has_key_event                   https://identifiers.org/aop.events/1170, https://identifiers.org/aop.events/1171, https://identifiers.org/aop.events/227, https://identifiers.org/aop.events/716, https://identifiers.org/aop.events/719                                                                                                                                                                                                                                                                                                                                                                                                                                                                                                                                                                                                                                                                                                                                                                                                                                                                                                                                                                                                                                                                                                                                                                                                                                                                                                                                                                                                                                                                                      \n",
       "aopo:has_molecular_initiating_event  https://identifiers.org/aop.events/227                                                                                                                                                                                                                                                                                                                                                                                                                                                                                                                                                                                                                                                                                                                                                                                                                                                                                                                                                                                                                                                                                                                                                                                                                                                                                                                                                                                                                                                                                                                                                                                                                                                        \n",
       "aopo:has_adverse_outcome             https://identifiers.org/aop.events/719                                                                                                                                                                                                                                                                                                                                                                                                                                                                                                                                                                                                                                                                                                                                                                                                                                                                                                                                                                                                                                                                                                                                                                                                                                                                                                                                                                                                                                                                                                                                                                                                                                                        \n",
       "aopo:has_key_event_relationship      https://identifiers.org/aop.relationships/1229, https://identifiers.org/aop.relationships/1230, https://identifiers.org/aop.relationships/1232, https://identifiers.org/aop.relationships/1239, https://identifiers.org/aop.relationships/2252, https://identifiers.org/aop.relationships/2253, https://identifiers.org/aop.relationships/2254                                                                                                                                                                                                                                                                                                                                                                                                                                                                                                                                                                                                                                                                                                                                                                                                                                                                                                                                                                                                                                                                                                                                                                                                                                                                                                                                                \n",
       "ncit:C54571                          https://identifiers.org/aop.stressor/11, https://identifiers.org/aop.stressor/175, https://identifiers.org/aop.stressor/191, https://identifiers.org/aop.stressor/205, https://identifiers.org/aop.stressor/206, https://identifiers.org/aop.stressor/207, https://identifiers.org/aop.stressor/208, https://identifiers.org/aop.stressor/210, https://identifiers.org/aop.stressor/211                                                                                                                                                                                                                                                                                                                                                                                                                                                                                                                                                                                                                                                                                                                                                                                                                                                                                                                                                                                                                                                                                                                                                                                                                                                                                                       "
      ]
     },
     "metadata": {},
     "output_type": "display_data"
    }
   ],
   "source": [
    "# Defining all variables as ontology terms present in AOP-Wiki RDF.\n",
    "title = 'dc:title'\n",
    "webpage = 'foaf:page'\n",
    "creator = 'dc:creator'\n",
    "abstract = 'dcterms:abstract'\n",
    "key_event = 'aopo:has_key_event'\n",
    "molecular_initiating_event = 'aopo:has_molecular_initiating_event'\n",
    "adverse_outcome = 'aopo:has_adverse_outcome'\n",
    "key_event_relationship = 'aopo:has_key_event_relationship'\n",
    "stressor = 'ncit:C54571'\n",
    "\n",
    "# Storing the terms as a list object. \n",
    "listofterms = [title,webpage,creator,abstract,key_event,molecular_initiating_event,adverse_outcome,key_event_relationship,stressor]\n",
    "\n",
    "# Initiating the DataFrame.\n",
    "AOPinfo = pd.DataFrame(columns=['Properties'], index = [list(listofterms)])\n",
    "\n",
    "# Running the whole query. \n",
    "for term in listofterms:\n",
    "    sparqlquery = '''\n",
    "    PREFIX ncit: <http://ncicb.nci.nih.gov/xml/owl/EVS/Thesaurus.owl#>\n",
    "    SELECT (group_concat(distinct ?item;separator=\";\") as ?items)\n",
    "    WHERE{\n",
    "    ?AOP_URI a aopo:AdverseOutcomePathway;'''+term+''' ?item.\n",
    "    FILTER (?AOP_URI = aop:'''+AOPid +''')}\n",
    "    '''\n",
    "    aopwikisparql.setQuery(sparqlquery)\n",
    "    aopwikisparql.setReturnFormat(JSON)  \n",
    "    results = aopwikisparql.query().convert()\n",
    "    for result in results[\"results\"][\"bindings\"]:\n",
    "        if 'identifiers.org' in result[\"items\"][\"value\"]:\n",
    "            AOPinfo.at[term,'Properties'] = ', '.join(result[\"items\"][\"value\"].split(';'))\n",
    "        else:\n",
    "            AOPinfo.at[term,'Properties'] = result[\"items\"][\"value\"]\n",
    "\n",
    "display(AOPinfo)"
   ]
  },
  {
   "cell_type": "markdown",
   "id": "7f488c13",
   "metadata": {},
   "source": [
    "## Generating AOP Network"
   ]
  },
  {
   "cell_type": "code",
   "execution_count": 8,
   "id": "385d3515",
   "metadata": {},
   "outputs": [
    {
     "data": {
      "text/html": [
       "\n",
       "        <iframe\n",
       "            width=\"700\"\n",
       "            height=\"600\"\n",
       "            src=\"./mygraph.html\"\n",
       "            frameborder=\"0\"\n",
       "            allowfullscreen\n",
       "            \n",
       "        ></iframe>\n",
       "        "
      ],
      "text/plain": [
       "<IPython.lib.display.IFrame at 0x7fc69312e7f0>"
      ]
     },
     "execution_count": 8,
     "metadata": {},
     "output_type": "execute_result"
    }
   ],
   "source": [
    "# Generate network from AOP + interlinked AOPs.\n",
    "Key_Events = str(AOPinfo.iat[4,0]).split(', ')\n",
    "\n",
    "# A network of pathways can be built by searching other pathways where the key \n",
    "# events in our AOP exist. Here, we are searching for other AOPs that include \n",
    "# the KEs in our pathway.\n",
    "for Key_Event in Key_Events:\n",
    "    sparqlquery = '''\n",
    "    SELECT ?MIE_ID ?KE_ID ?AO_ID ?KER_ID ?KE_Title\n",
    "    WHERE{\n",
    "    ?KE_URI a aopo:KeyEvent; dcterms:isPartOf ?AOP_URI.\n",
    "    ?AOP_URI aopo:has_key_event ?KE_URI2; aopo:has_molecular_initiating_event ?MIE_URI; aopo:has_adverse_outcome ?AO_URI; aopo:has_key_event_relationship ?KER_URI.\n",
    "    ?KE_URI2 rdfs:label ?KE_ID; dc:title ?KE_Title. \n",
    "    ?MIE_URI rdfs:label ?MIE_ID.\n",
    "    ?AO_URI rdfs:label ?AO_ID.\n",
    "    ?KER_URI rdfs:label ?KER_ID.    \n",
    "    FILTER (?KE_URI = <'''+Key_Event+'''>)}\n",
    "    '''\n",
    "    aopwikisparql.setQuery(sparqlquery)\n",
    "    aopwikisparql.setReturnFormat(JSON)  \n",
    "    results = aopwikisparql.query().convert()\n",
    "\n",
    "    MIEs = set([])\n",
    "    KEs = set([])\n",
    "    KEtitle = {}\n",
    "    AOs = set([])\n",
    "    KERs = set([])\n",
    "    for result in results[\"results\"][\"bindings\"]:\n",
    "        MIEs.add(result[\"MIE_ID\"][\"value\"])\n",
    "        AOs.add(result[\"AO_ID\"][\"value\"])\n",
    "        KEs.add(result[\"KE_ID\"][\"value\"])\n",
    "        KERs.add(result[\"KER_ID\"][\"value\"])\n",
    "        KEtitle[result[\"KE_ID\"][\"value\"]]=result[\"KE_Title\"][\"value\"]\n",
    "\n",
    "# Listing all intermediate KEs that are not MIEs or AOs. \n",
    "KEsIntermediate = []\n",
    "for item in KEs:\n",
    "    if item not in MIEs and item not in AOs:\n",
    "        KEsIntermediate.append(item) \n",
    "\n",
    "# Initiating the network figure\n",
    "net = Network(height=\"100%\", width=\"100%\")\n",
    "\n",
    "# Adding nodes for Molecular Initiating Events, Key Events, and Adverse \n",
    "# Outcomes to the network figure\n",
    "for MIE in MIEs:\n",
    "    net.add_node(MIE, color = 'lightgreen', size = 50, shape = 'circle', font = '20px arial black', title = KEtitle[MIE])\n",
    "for KE in KEsIntermediate:\n",
    "    net.add_node(KE, color = 'khaki', size = 50, shape = 'circle', font = '20px arial black', title = KEtitle[KE])\n",
    "for AO in AOs:\n",
    "    net.add_node(AO, color = 'salmon', size = 50, shape = 'circle', font = '20px arial black', title = KEtitle[AO])\n",
    "\n",
    "# Adding all Key Event Relationships to the network figure after querying all \n",
    "# KERs for all KEs in AOP-Wiki RDF\n",
    "for KER in KERs:\n",
    "    sparqlquery = '''\n",
    "    SELECT ?KE_UP_ID ?KE_DOWN_ID \n",
    "    WHERE{\n",
    "    ?KER_URI a aopo:KeyEventRelationship; rdfs:label ?KER_ID; aopo:has_upstream_key_event ?KE_UP_URI; aopo:has_downstream_key_event ?KE_DOWN_URI.\n",
    "    ?KE_UP_URI rdfs:label ?KE_UP_ID.\n",
    "    ?KE_DOWN_URI rdfs:label ?KE_DOWN_ID.\n",
    "    FILTER (?KER_ID = \"'''+KER+'''\")}\n",
    "    '''\n",
    "    aopwikisparql.setQuery(sparqlquery)\n",
    "    aopwikisparql.setReturnFormat(JSON)  \n",
    "    results = aopwikisparql.query().convert()\n",
    "    for result in results[\"results\"][\"bindings\"]:\n",
    "        net.add_edge(result[\"KE_UP_ID\"][\"value\"],result[\"KE_DOWN_ID\"][\"value\"],width = 2, color = 'black',label = KER, arrows = 'to')\n",
    "\n",
    "net.show('mygraph.html')\n",
    "IFrame(src='./mygraph.html', width=700, height=600)"
   ]
  },
  {
   "cell_type": "code",
   "execution_count": 10,
   "id": "c0d0efd1",
   "metadata": {
    "scrolled": false
   },
   "outputs": [
    {
     "name": "stderr",
     "output_type": "stream",
     "text": [
      "/tmp/ipykernel_131591/3443788425.py:27: FutureWarning: The frame.append method is deprecated and will be removed from pandas in a future version. Use pandas.concat instead.\n",
      "  Chemdata = Chemdata.append({\n",
      "/tmp/ipykernel_131591/3443788425.py:27: FutureWarning: The frame.append method is deprecated and will be removed from pandas in a future version. Use pandas.concat instead.\n",
      "  Chemdata = Chemdata.append({\n",
      "/tmp/ipykernel_131591/3443788425.py:27: FutureWarning: The frame.append method is deprecated and will be removed from pandas in a future version. Use pandas.concat instead.\n",
      "  Chemdata = Chemdata.append({\n",
      "/tmp/ipykernel_131591/3443788425.py:27: FutureWarning: The frame.append method is deprecated and will be removed from pandas in a future version. Use pandas.concat instead.\n",
      "  Chemdata = Chemdata.append({\n",
      "/tmp/ipykernel_131591/3443788425.py:27: FutureWarning: The frame.append method is deprecated and will be removed from pandas in a future version. Use pandas.concat instead.\n",
      "  Chemdata = Chemdata.append({\n",
      "/tmp/ipykernel_131591/3443788425.py:27: FutureWarning: The frame.append method is deprecated and will be removed from pandas in a future version. Use pandas.concat instead.\n",
      "  Chemdata = Chemdata.append({\n",
      "/tmp/ipykernel_131591/3443788425.py:27: FutureWarning: The frame.append method is deprecated and will be removed from pandas in a future version. Use pandas.concat instead.\n",
      "  Chemdata = Chemdata.append({\n",
      "/tmp/ipykernel_131591/3443788425.py:27: FutureWarning: The frame.append method is deprecated and will be removed from pandas in a future version. Use pandas.concat instead.\n",
      "  Chemdata = Chemdata.append({\n"
     ]
    },
    {
     "data": {
      "text/html": [
       "<div>\n",
       "<style scoped>\n",
       "    .dataframe tbody tr th:only-of-type {\n",
       "        vertical-align: middle;\n",
       "    }\n",
       "\n",
       "    .dataframe tbody tr th {\n",
       "        vertical-align: top;\n",
       "    }\n",
       "\n",
       "    .dataframe thead th {\n",
       "        text-align: right;\n",
       "    }\n",
       "</style>\n",
       "<table border=\"1\" class=\"dataframe\">\n",
       "  <thead>\n",
       "    <tr style=\"text-align: right;\">\n",
       "      <th></th>\n",
       "      <th>Chemical_name</th>\n",
       "      <th>CAS_ID</th>\n",
       "      <th>CompTox_ID</th>\n",
       "    </tr>\n",
       "  </thead>\n",
       "  <tbody>\n",
       "    <tr>\n",
       "      <th>0</th>\n",
       "      <td>Di(2-ethylhexyl) phthalate</td>\n",
       "      <td>117-81-7</td>\n",
       "      <td>DTXSID5020607</td>\n",
       "    </tr>\n",
       "    <tr>\n",
       "      <th>1</th>\n",
       "      <td>Gemfibrozil</td>\n",
       "      <td>25812-30-0</td>\n",
       "      <td>DTXSID0020652</td>\n",
       "    </tr>\n",
       "    <tr>\n",
       "      <th>2</th>\n",
       "      <td>Nafenopin</td>\n",
       "      <td>3771-19-5</td>\n",
       "      <td>DTXSID8020911</td>\n",
       "    </tr>\n",
       "    <tr>\n",
       "      <th>3</th>\n",
       "      <td>Bezafibrate</td>\n",
       "      <td>41859-67-0</td>\n",
       "      <td>DTXSID3029869</td>\n",
       "    </tr>\n",
       "    <tr>\n",
       "      <th>4</th>\n",
       "      <td>Fenofibrate</td>\n",
       "      <td>49562-28-9</td>\n",
       "      <td>DTXSID2029874</td>\n",
       "    </tr>\n",
       "    <tr>\n",
       "      <th>5</th>\n",
       "      <td>Pirinixic acid</td>\n",
       "      <td>50892-23-4</td>\n",
       "      <td>DTXSID4020290</td>\n",
       "    </tr>\n",
       "    <tr>\n",
       "      <th>6</th>\n",
       "      <td>Ciprofibrate</td>\n",
       "      <td>52214-84-3</td>\n",
       "      <td>DTXSID8020331</td>\n",
       "    </tr>\n",
       "    <tr>\n",
       "      <th>7</th>\n",
       "      <td>Clofibrate</td>\n",
       "      <td>637-07-0</td>\n",
       "      <td>DTXSID3020336</td>\n",
       "    </tr>\n",
       "  </tbody>\n",
       "</table>\n",
       "</div>"
      ],
      "text/plain": [
       "                Chemical_name      CAS_ID     CompTox_ID\n",
       "0  Di(2-ethylhexyl) phthalate  117-81-7    DTXSID5020607\n",
       "1  Gemfibrozil                 25812-30-0  DTXSID0020652\n",
       "2  Nafenopin                   3771-19-5   DTXSID8020911\n",
       "3  Bezafibrate                 41859-67-0  DTXSID3029869\n",
       "4  Fenofibrate                 49562-28-9  DTXSID2029874\n",
       "5  Pirinixic acid              50892-23-4  DTXSID4020290\n",
       "6  Ciprofibrate                52214-84-3  DTXSID8020331\n",
       "7  Clofibrate                  637-07-0    DTXSID3020336"
      ]
     },
     "metadata": {},
     "output_type": "display_data"
    }
   ],
   "source": [
    "# Querying all chemicals that are part of the selected AOP\n",
    "sparqlquery = '''\n",
    "SELECT ?CAS_ID (fn:substring(?CompTox,33) as ?CompTox_ID) ?Chemical_name\n",
    "WHERE{\n",
    "?AOP_URI a aopo:AdverseOutcomePathway; nci:C54571 ?Stressor.\n",
    "?Stressor aopo:has_chemical_entity ?Chemical.\n",
    "?Chemical cheminf:000446 ?CAS_ID; dc:title ?Chemical_name.\n",
    "OPTIONAL {?Chemical cheminf:000568 ?CompTox.}\n",
    "FILTER (?AOP_URI = aop:'''+AOPid +''')}\n",
    "'''\n",
    "aopwikisparql.setQuery(sparqlquery)\n",
    "aopwikisparql.setReturnFormat(JSON)  \n",
    "results = aopwikisparql.query().convert()\n",
    "\n",
    "Chemical_names = {}\n",
    "CompTox = {}\n",
    "\n",
    "for result in results[\"results\"][\"bindings\"]:\n",
    "    try: CompTox[result[\"CAS_ID\"][\"value\"]] =result[\"CompTox_ID\"][\"value\"]\n",
    "    except: pass\n",
    "for result in results[\"results\"][\"bindings\"]:\n",
    "    try: Chemical_names[result[\"CAS_ID\"][\"value\"]] =result[\"Chemical_name\"][\"value\"]\n",
    "    except: pass\n",
    "\n",
    "Chemdata = pd.DataFrame(columns=['Chemical_name','CAS_ID','CompTox_ID'])\n",
    "for CAS_ID in Chemical_names:\n",
    "    Chemdata = Chemdata.append({\n",
    "        'Chemical_name' : Chemical_names[CAS_ID],\n",
    "        'CAS_ID'        : CAS_ID,\n",
    "        'CompTox_ID'    : CompTox[CAS_ID],\n",
    "        }, ignore_index=True)\n",
    "display(Chemdata)   # These are all the chemicals included"
   ]
  },
  {
   "cell_type": "code",
   "execution_count": 11,
   "id": "ce87d3dd",
   "metadata": {},
   "outputs": [
    {
     "data": {
      "text/plain": [
       "['117-81-7',\n",
       " '25812-30-0',\n",
       " '3771-19-5',\n",
       " '41859-67-0',\n",
       " '49562-28-9',\n",
       " '50892-23-4',\n",
       " '52214-84-3',\n",
       " '637-07-0']"
      ]
     },
     "execution_count": 11,
     "metadata": {},
     "output_type": "execute_result"
    }
   ],
   "source": [
    "compounds = []\n",
    "for index, row in Chemdata.iterrows():\n",
    "    compounds.append(row['CAS_ID'])\n",
    "compounds"
   ]
  },
  {
   "cell_type": "markdown",
   "id": "fd9ffc27",
   "metadata": {},
   "source": [
    "## ChemIdConvert\n",
    "The ChemIdConvert is a tool to convert chemical descriptors between various formats such as SMILES and InChl through a REST API. "
   ]
  },
  {
   "cell_type": "code",
   "execution_count": 12,
   "id": "e89018a0",
   "metadata": {},
   "outputs": [
    {
     "name": "stderr",
     "output_type": "stream",
     "text": [
      "/tmp/ipykernel_131591/2175663238.py:7: FutureWarning: The frame.append method is deprecated and will be removed from pandas in a future version. Use pandas.concat instead.\n",
      "  compoundstable = compoundstable.append({'CAS_ID': compound, 'Image': smiles, 'Smiles': smiles, 'InChIKey' : inchikey}, ignore_index=True)\n",
      "/tmp/ipykernel_131591/2175663238.py:7: FutureWarning: The frame.append method is deprecated and will be removed from pandas in a future version. Use pandas.concat instead.\n",
      "  compoundstable = compoundstable.append({'CAS_ID': compound, 'Image': smiles, 'Smiles': smiles, 'InChIKey' : inchikey}, ignore_index=True)\n",
      "/tmp/ipykernel_131591/2175663238.py:7: FutureWarning: The frame.append method is deprecated and will be removed from pandas in a future version. Use pandas.concat instead.\n",
      "  compoundstable = compoundstable.append({'CAS_ID': compound, 'Image': smiles, 'Smiles': smiles, 'InChIKey' : inchikey}, ignore_index=True)\n",
      "/tmp/ipykernel_131591/2175663238.py:7: FutureWarning: The frame.append method is deprecated and will be removed from pandas in a future version. Use pandas.concat instead.\n",
      "  compoundstable = compoundstable.append({'CAS_ID': compound, 'Image': smiles, 'Smiles': smiles, 'InChIKey' : inchikey}, ignore_index=True)\n",
      "/tmp/ipykernel_131591/2175663238.py:7: FutureWarning: The frame.append method is deprecated and will be removed from pandas in a future version. Use pandas.concat instead.\n",
      "  compoundstable = compoundstable.append({'CAS_ID': compound, 'Image': smiles, 'Smiles': smiles, 'InChIKey' : inchikey}, ignore_index=True)\n",
      "/tmp/ipykernel_131591/2175663238.py:7: FutureWarning: The frame.append method is deprecated and will be removed from pandas in a future version. Use pandas.concat instead.\n",
      "  compoundstable = compoundstable.append({'CAS_ID': compound, 'Image': smiles, 'Smiles': smiles, 'InChIKey' : inchikey}, ignore_index=True)\n",
      "/tmp/ipykernel_131591/2175663238.py:7: FutureWarning: The frame.append method is deprecated and will be removed from pandas in a future version. Use pandas.concat instead.\n",
      "  compoundstable = compoundstable.append({'CAS_ID': compound, 'Image': smiles, 'Smiles': smiles, 'InChIKey' : inchikey}, ignore_index=True)\n",
      "/tmp/ipykernel_131591/2175663238.py:7: FutureWarning: The frame.append method is deprecated and will be removed from pandas in a future version. Use pandas.concat instead.\n",
      "  compoundstable = compoundstable.append({'CAS_ID': compound, 'Image': smiles, 'Smiles': smiles, 'InChIKey' : inchikey}, ignore_index=True)\n"
     ]
    },
    {
     "data": {
      "text/html": [
       "<table border=\"1\" class=\"dataframe\">\n",
       "  <thead>\n",
       "    <tr style=\"text-align: right;\">\n",
       "      <th></th>\n",
       "      <th>CAS_ID</th>\n",
       "      <th>Image</th>\n",
       "      <th>Smiles</th>\n",
       "      <th>InChIKey</th>\n",
       "    </tr>\n",
       "  </thead>\n",
       "  <tbody>\n",
       "    <tr>\n",
       "      <th>0</th>\n",
       "      <td>117-81-7</td>\n",
       "      <td><img style=\"width:150px\" src=\"https://chemidconvert.cloud.douglasconnect.com/v1/asSvg?smiles=CCCCC%28CC%29COC%28%3DO%29c1ccccc1C%28%3DO%29OCC%28CC%29CCCC\"/></td>\n",
       "      <td>CCCCC(CC)COC(=O)c1ccccc1C(=O)OCC(CC)CCCC</td>\n",
       "      <td>BJQHLKABXJIVAM-UHFFFAOYSA-N</td>\n",
       "    </tr>\n",
       "    <tr>\n",
       "      <th>1</th>\n",
       "      <td>25812-30-0</td>\n",
       "      <td><img style=\"width:150px\" src=\"https://chemidconvert.cloud.douglasconnect.com/v1/asSvg?smiles=Cc1ccc%28C%29c%28OCCCC%28C%29%28C%29C%28O%29%3DO%29c1\"/></td>\n",
       "      <td>Cc1ccc(C)c(OCCCC(C)(C)C(O)=O)c1</td>\n",
       "      <td>HEMJJKBWTPKOJG-UHFFFAOYSA-N</td>\n",
       "    </tr>\n",
       "    <tr>\n",
       "      <th>2</th>\n",
       "      <td>3771-19-5</td>\n",
       "      <td><img style=\"width:150px\" src=\"https://chemidconvert.cloud.douglasconnect.com/v1/asSvg?smiles=CC%28C%29%28Oc1ccc%28cc1%29C2CCCc3ccccc23%29C%28O%29%3DO\"/></td>\n",
       "      <td>CC(C)(Oc1ccc(cc1)C2CCCc3ccccc23)C(O)=O</td>\n",
       "      <td>XJGBDJOMWKAZJS-UHFFFAOYSA-N</td>\n",
       "    </tr>\n",
       "    <tr>\n",
       "      <th>3</th>\n",
       "      <td>41859-67-0</td>\n",
       "      <td><img style=\"width:150px\" src=\"https://chemidconvert.cloud.douglasconnect.com/v1/asSvg?smiles=CC%28C%29%28Oc1ccc%28CCNC%28%3DO%29c2ccc%28Cl%29cc2%29cc1%29C%28O%29%3DO\"/></td>\n",
       "      <td>CC(C)(Oc1ccc(CCNC(=O)c2ccc(Cl)cc2)cc1)C(O)=O</td>\n",
       "      <td>IIBYAHWJQTYFKB-UHFFFAOYSA-N</td>\n",
       "    </tr>\n",
       "    <tr>\n",
       "      <th>4</th>\n",
       "      <td>49562-28-9</td>\n",
       "      <td><img style=\"width:150px\" src=\"https://chemidconvert.cloud.douglasconnect.com/v1/asSvg?smiles=CC%28C%29OC%28%3DO%29C%28C%29%28C%29Oc1ccc%28cc1%29C%28%3DO%29c2ccc%28Cl%29cc2\"/></td>\n",
       "      <td>CC(C)OC(=O)C(C)(C)Oc1ccc(cc1)C(=O)c2ccc(Cl)cc2</td>\n",
       "      <td>YMTINGFKWWXKFG-UHFFFAOYSA-N</td>\n",
       "    </tr>\n",
       "    <tr>\n",
       "      <th>5</th>\n",
       "      <td>50892-23-4</td>\n",
       "      <td><img style=\"width:150px\" src=\"https://chemidconvert.cloud.douglasconnect.com/v1/asSvg?smiles=Cc1cccc%28Nc2cc%28Cl%29nc%28SCC%28O%29%3DO%29n2%29c1C\"/></td>\n",
       "      <td>Cc1cccc(Nc2cc(Cl)nc(SCC(O)=O)n2)c1C</td>\n",
       "      <td>SZRPDCCEHVWOJX-UHFFFAOYSA-N</td>\n",
       "    </tr>\n",
       "    <tr>\n",
       "      <th>6</th>\n",
       "      <td>52214-84-3</td>\n",
       "      <td><img style=\"width:150px\" src=\"https://chemidconvert.cloud.douglasconnect.com/v1/asSvg?smiles=CC%28C%29%28Oc1ccc%28cc1%29C2CC2%28Cl%29Cl%29C%28O%29%3DO\"/></td>\n",
       "      <td>CC(C)(Oc1ccc(cc1)C2CC2(Cl)Cl)C(O)=O</td>\n",
       "      <td>KPSRODZRAIWAKH-UHFFFAOYSA-N</td>\n",
       "    </tr>\n",
       "    <tr>\n",
       "      <th>7</th>\n",
       "      <td>637-07-0</td>\n",
       "      <td><img style=\"width:150px\" src=\"https://chemidconvert.cloud.douglasconnect.com/v1/asSvg?smiles=CCOC%28%3DO%29C%28C%29%28C%29Oc1ccc%28Cl%29cc1\"/></td>\n",
       "      <td>CCOC(=O)C(C)(C)Oc1ccc(Cl)cc1</td>\n",
       "      <td>KNHUKKLJHYUCFP-UHFFFAOYSA-N</td>\n",
       "    </tr>\n",
       "  </tbody>\n",
       "</table>"
      ],
      "text/plain": [
       "<IPython.core.display.HTML object>"
      ]
     },
     "execution_count": 12,
     "metadata": {},
     "output_type": "execute_result"
    }
   ],
   "source": [
    "compoundstable = pd.DataFrame(columns=['CAS_ID', 'Image', 'Smiles', 'InChIKey'])\n",
    "\n",
    "# Fill \"compounds\" with the \"smiles\" by the compound name.\n",
    "for compound in compounds:\n",
    "    smiles = requests.get(chemidconvert + 'cas/to/smiles', params={'cas': compound}).json()['smiles']\n",
    "    inchikey = requests.get(chemidconvert + 'smiles/to/inchikey', params={'smiles': smiles}).json()['inchikey']\n",
    "    compoundstable = compoundstable.append({'CAS_ID': compound, 'Image': smiles, 'Smiles': smiles, 'InChIKey' : inchikey}, ignore_index=True)\n",
    "\n",
    "def smiles_to_image_html(smiles):  # \"smiles\" shadows \"smiles\" from outer scope, use this function only in \"to_html().\n",
    "    \"\"\"Gets for each smile the image, in HTML.\n",
    "    :param smiles: Takes the “smiles” form “compounds”.\n",
    "    :return: The HTML code for the image of the given smiles.\n",
    "    \"\"\"\n",
    "    return '<img style=\"width:150px\" src=\"' + chemidconvert+'asSvg?smiles='+urllib.parse.quote(smiles)+'\"/>'\n",
    "\n",
    "\n",
    "# Return a HTML table of \"compounds\", after \"compounds\" is fill by \"smiles_to_image_html\".\n",
    "HTML(compoundstable.to_html(escape=False, formatters=dict(Image=smiles_to_image_html)))"
   ]
  },
  {
   "cell_type": "markdown",
   "id": "4a92a615",
   "metadata": {},
   "source": [
    "## AOP-DB RDF\n",
    "\n",
    "AOP-DB assists the researchers to discover and develop putative and potential AOPs by integrating AOPs with gene targets, chemicals, diseases, tissues, pathways, species orthology information, ontologies, and gene interactions based on public annotations. AOP-DB RDF, in turn, converts the results into an RDF schema and expose its data in a Virtuoso SPARQL endpoint. All genes related to the AOP of interest are extracted through this process."
   ]
  },
  {
   "cell_type": "code",
   "execution_count": 13,
   "id": "d378297e",
   "metadata": {},
   "outputs": [
    {
     "name": "stdout",
     "output_type": "stream",
     "text": [
      "['5465', '403654', '19013', '25747']\n"
     ]
    }
   ],
   "source": [
    "Key_Events = str(AOPinfo.iat[4,0]).split(', ')\n",
    "Genes = []\n",
    "\n",
    "# Getting AOPs from the KEs.\n",
    "for Key_Event in Key_Events:\n",
    "    sparqlquery = '''\n",
    "    SELECT DISTINCT ?KE_ID ?Entrez_ID WHERE{\n",
    "    ?KE_URI edam:data_1027 ?Entrez_URI. ?Entrez_URI edam:data_1027 ?Entrez_ID.\n",
    "    FILTER (?KE_URI = <'''+Key_Event +'''>)}\n",
    "    '''\n",
    "    aopdbsparql.setQuery(sparqlquery)\n",
    "    aopdbsparql.setReturnFormat(JSON)  \n",
    "    results = aopdbsparql.query().convert()\n",
    "    for result in results[\"results\"][\"bindings\"]:\n",
    "        Genes.append(result[\"Entrez_ID\"][\"value\"])\n",
    "\n",
    "print(Genes)"
   ]
  },
  {
   "cell_type": "markdown",
   "id": "56c1f0aa",
   "metadata": {},
   "source": [
    "## BridgeDb to map identifiers\n",
    "\n",
    "BridgeDb assists the researchers to explore various biological databases to detect different biological identifiers associated with an identifier at hand.  "
   ]
  },
  {
   "cell_type": "code",
   "execution_count": 14,
   "id": "577307fd",
   "metadata": {},
   "outputs": [
    {
     "data": {
      "text/html": [
       "<div>\n",
       "<style scoped>\n",
       "    .dataframe tbody tr th:only-of-type {\n",
       "        vertical-align: middle;\n",
       "    }\n",
       "\n",
       "    .dataframe tbody tr th {\n",
       "        vertical-align: top;\n",
       "    }\n",
       "\n",
       "    .dataframe thead th {\n",
       "        text-align: right;\n",
       "    }\n",
       "</style>\n",
       "<table border=\"1\" class=\"dataframe\">\n",
       "  <thead>\n",
       "    <tr style=\"text-align: right;\">\n",
       "      <th></th>\n",
       "      <th>Entrez</th>\n",
       "      <th>HGNC</th>\n",
       "      <th>Ensembl</th>\n",
       "    </tr>\n",
       "  </thead>\n",
       "  <tbody>\n",
       "    <tr>\n",
       "      <th>0</th>\n",
       "      <td>5465</td>\n",
       "      <td>PPARA</td>\n",
       "      <td>ENSG00000186951</td>\n",
       "    </tr>\n",
       "    <tr>\n",
       "      <th>1</th>\n",
       "      <td>403654</td>\n",
       "      <td></td>\n",
       "      <td></td>\n",
       "    </tr>\n",
       "    <tr>\n",
       "      <th>2</th>\n",
       "      <td>19013</td>\n",
       "      <td></td>\n",
       "      <td>ENSMUSG00000022383</td>\n",
       "    </tr>\n",
       "    <tr>\n",
       "      <th>3</th>\n",
       "      <td>25747</td>\n",
       "      <td></td>\n",
       "      <td>ENSRNOG00000021463</td>\n",
       "    </tr>\n",
       "  </tbody>\n",
       "</table>\n",
       "</div>"
      ],
      "text/plain": [
       "   Entrez   HGNC             Ensembl\n",
       "0  5465    PPARA  ENSG00000186951   \n",
       "1  403654                           \n",
       "2  19013          ENSMUSG00000022383\n",
       "3  25747          ENSRNOG00000021463"
      ]
     },
     "metadata": {},
     "output_type": "display_data"
    }
   ],
   "source": [
    "inputdatasource = 'L'\n",
    "outputdatasource = ['H','En']\n",
    "Species = ['Human','Mouse','Rat']\n",
    "\n",
    "Mappings = {}\n",
    "HGNC = []\n",
    "\n",
    "for source in outputdatasource:\n",
    "    Mappings[source] = []\n",
    "    for Entrez in Genes:\n",
    "        for species in Species:\n",
    "            allmappings = re.split('\\t|\\n', requests.get(bridgedb + species + '/xrefs/' + inputdatasource + '/' + Entrez + '?dataSource='+source).text)\n",
    "            if allmappings[0] != '':\n",
    "                break\n",
    "        Mappings[source].append(allmappings[0])\n",
    "\n",
    "ids = {}\n",
    "for source in Mappings:\n",
    "    ids[source]=[]\n",
    "    for identifier in Mappings[source]:\n",
    "        ids[source].append(identifier)\n",
    "\n",
    "GenesTable = pd.DataFrame(columns=['Entrez','HGNC','Ensembl'])\n",
    "GenesTable['Entrez'] = Genes\n",
    "GenesTable['HGNC'] = ids['H']\n",
    "GenesTable['Ensembl'] = ids['En']\n",
    "\n",
    "display(GenesTable)"
   ]
  },
  {
   "cell_type": "code",
   "execution_count": null,
   "id": "ba0c16b7",
   "metadata": {},
   "outputs": [],
   "source": []
  }
 ],
 "metadata": {
  "kernelspec": {
   "display_name": "Python 3 (ipykernel)",
   "language": "python",
   "name": "python3"
  },
  "language_info": {
   "codemirror_mode": {
    "name": "ipython",
    "version": 3
   },
   "file_extension": ".py",
   "mimetype": "text/x-python",
   "name": "python",
   "nbconvert_exporter": "python",
   "pygments_lexer": "ipython3",
   "version": "3.9.16"
  }
 },
 "nbformat": 4,
 "nbformat_minor": 5
}
